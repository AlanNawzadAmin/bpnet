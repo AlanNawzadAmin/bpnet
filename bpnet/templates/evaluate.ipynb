{
 "cells": [
  {
   "cell_type": "code",
   "execution_count": 1,
   "metadata": {
    "tags": [
     "parameters"
    ]
   },
   "outputs": [],
   "source": [
    "# Example parameters\n",
    "model_dir = '../../tests/data/output/test1'\n",
    "\n",
    "gpu = 0\n",
    "memfrac_gpu = 0.45\n",
    "in_memory = False\n",
    "num_workers = 8"
   ]
  },
  {
   "cell_type": "code",
   "execution_count": 2,
   "metadata": {},
   "outputs": [
    {
     "name": "stderr",
     "output_type": "stream",
     "text": [
      "Using TensorFlow backend.\n"
     ]
    }
   ],
   "source": [
    "import bpnet\n",
    "import pandas as pd\n",
    "import numpy as np\n",
    "import os\n",
    "from pathlib import Path\n",
    "from bpnet.cli.schemas import DataSpec, TaskSpec\n",
    "from bpnet.utils import create_tf_session\n",
    "from bpnet.seqmodel import SeqModel\n",
    "from bpnet.plot.evaluate import plot_loss, regression_eval"
   ]
  },
  {
   "cell_type": "code",
   "execution_count": 3,
   "metadata": {},
   "outputs": [],
   "source": [
    "model_dir = Path(model_dir)"
   ]
  },
  {
   "cell_type": "code",
   "execution_count": 5,
   "metadata": {},
   "outputs": [],
   "source": [
    "history_file = model_dir / \"history.csv\""
   ]
  },
  {
   "cell_type": "code",
   "execution_count": 6,
   "metadata": {},
   "outputs": [
    {
     "data": {
      "text/plain": [
       "<tensorflow.python.client.session.Session at 0x7f082ca149b0>"
      ]
     },
     "execution_count": 6,
     "metadata": {},
     "output_type": "execute_result"
    }
   ],
   "source": [
    "create_tf_session(gpu)"
   ]
  },
  {
   "cell_type": "code",
   "execution_count": 16,
   "metadata": {},
   "outputs": [],
   "source": [
    "model = SeqModel.from_mdir(model_dir)"
   ]
  },
  {
   "cell_type": "markdown",
   "metadata": {},
   "source": [
    "## Learning curves"
   ]
  },
  {
   "cell_type": "code",
   "execution_count": 8,
   "metadata": {},
   "outputs": [],
   "source": [
    "ds = DataSpec.load(model_dir / 'dataspec.yml')\n",
    "tasks = list(ds.task_specs)"
   ]
  },
  {
   "cell_type": "code",
   "execution_count": 9,
   "metadata": {},
   "outputs": [
    {
     "data": {
      "text/plain": [
       "{'epoch': 0.0,\n",
       " 'Task1/counts_loss': 27.732396125793453,\n",
       " 'Task1/profile_loss': 393.3304901123047,\n",
       " 'loss': 670.6544189453125,\n",
       " 'val_Task1/counts_loss': 26.793097496032715,\n",
       " 'val_Task1/profile_loss': 516.1303405761719,\n",
       " 'val_loss': 784.0613098144531}"
      ]
     },
     "execution_count": 9,
     "metadata": {},
     "output_type": "execute_result"
    }
   ],
   "source": [
    "# Best metrics\n",
    "dfh = pd.read_csv(history_file)\n",
    "dict(dfh.iloc[dfh.val_loss.idxmin()])"
   ]
  },
  {
   "cell_type": "code",
   "execution_count": 10,
   "metadata": {},
   "outputs": [
    {
     "data": {
      "image/png": "[encoded data removed]",
      "text/plain": [
       "<Figure size 288x288 with 1 Axes>"
      ]
     },
     "metadata": {
      "needs_background": "light"
     },
     "output_type": "display_data"
    }
   ],
   "source": [
    "plot_loss(dfh, [f\"{task}/{p}_loss\"\n",
    "                for task in tasks\n",
    "                for p in ['profile']\n",
    "               ], figsize=(len(tasks)*4, 4))"
   ]
  },
  {
   "cell_type": "code",
   "execution_count": 11,
   "metadata": {},
   "outputs": [
    {
     "data": {
      "image/png": "[encoded data removed]",
      "text/plain": [
       "<Figure size 288x288 with 1 Axes>"
      ]
     },
     "metadata": {
      "needs_background": "light"
     },
     "output_type": "display_data"
    }
   ],
   "source": [
    "plot_loss(dfh, [f\"{task}/{p}_loss\"\n",
    "                for task in tasks\n",
    "                for p in ['counts']\n",
    "               ], figsize=(len(tasks)*4, 4))"
   ]
  },
  {
   "cell_type": "markdown",
   "metadata": {},
   "source": [
    "## Evaluation\n",
    "\n",
    "Print the metrics:"
   ]
  },
  {
   "cell_type": "code",
   "execution_count": 41,
   "metadata": {},
   "outputs": [
    {
     "name": "stdout",
     "output_type": "stream",
     "text": [
      "{\n",
      "  \"valid-peaks\": {\n",
      "    \"Task1/profile/binsize=1/auprc\": NaN,\n",
      "    \"Task1/profile/binsize=1/random_auprc\": NaN,\n",
      "    \"Task1/profile/binsize=1/n_positives\": 0,\n",
      "    \"Task1/profile/binsize=1/frac_ambigous\": 0.0,\n",
      "    \"Task1/profile/binsize=1/imbalance\": 0.0,\n",
      "    \"Task1/profile/binsize=10/auprc\": NaN,\n",
      "    \"Task1/profile/binsize=10/random_auprc\": NaN,\n",
      "    \"Task1/profile/binsize=10/n_positives\": 0,\n",
      "    \"Task1/profile/binsize=10/frac_ambigous\": 0.0,\n",
      "    \"Task1/profile/binsize=10/imbalance\": 0.0,\n",
      "    \"Task1/counts/mse\": 26.709247589111328,\n",
      "    \"Task1/counts/var_explained\": -Infinity,\n",
      "    \"Task1/counts/pearsonr\": NaN,\n",
      "    \"Task1/counts/spearmanr\": NaN,\n",
      "    \"Task1/counts/mad\": 5.157084941864014,\n",
      "    \"avg/profile/binsize=1/auprc\": NaN,\n",
      "    \"avg/profile/binsize=1/random_auprc\": NaN,\n",
      "    \"avg/profile/binsize=1/n_positives\": 0.0,\n",
      "    \"avg/profile/binsize=1/frac_ambigous\": 0.0,\n",
      "    \"avg/profile/binsize=1/imbalance\": 0.0,\n",
      "    \"avg/profile/binsize=10/auprc\": NaN,\n",
      "    \"avg/profile/binsize=10/random_auprc\": NaN,\n",
      "    \"avg/profile/binsize=10/n_positives\": 0.0,\n",
      "    \"avg/profile/binsize=10/frac_ambigous\": 0.0,\n",
      "    \"avg/profile/binsize=10/imbalance\": 0.0,\n",
      "    \"avg/counts/mse\": 26.709247589111328,\n",
      "    \"avg/counts/var_explained\": -Infinity,\n",
      "    \"avg/counts/pearsonr\": NaN,\n",
      "    \"avg/counts/spearmanr\": NaN,\n",
      "    \"avg/counts/mad\": 5.157084941864014\n",
      "  },\n",
      "  \"train-peaks\": {\n",
      "    \"Task1/profile/binsize=1/auprc\": NaN,\n",
      "    \"Task1/profile/binsize=1/random_auprc\": NaN,\n",
      "    \"Task1/profile/binsize=1/n_positives\": 0,\n",
      "    \"Task1/profile/binsize=1/frac_ambigous\": 0.0,\n",
      "    \"Task1/profile/binsize=1/imbalance\": 0.0,\n",
      "    \"Task1/profile/binsize=10/auprc\": NaN,\n",
      "    \"Task1/profile/binsize=10/random_auprc\": NaN,\n",
      "    \"Task1/profile/binsize=10/n_positives\": 0,\n",
      "    \"Task1/profile/binsize=10/frac_ambigous\": 0.0,\n",
      "    \"Task1/profile/binsize=10/imbalance\": 0.0,\n",
      "    \"Task1/counts/mse\": 20.06270408630371,\n",
      "    \"Task1/counts/var_explained\": -Infinity,\n",
      "    \"Task1/counts/pearsonr\": NaN,\n",
      "    \"Task1/counts/spearmanr\": NaN,\n",
      "    \"Task1/counts/mad\": 4.466428279876709,\n",
      "    \"avg/profile/binsize=1/auprc\": NaN,\n",
      "    \"avg/profile/binsize=1/random_auprc\": NaN,\n",
      "    \"avg/profile/binsize=1/n_positives\": 0.0,\n",
      "    \"avg/profile/binsize=1/frac_ambigous\": 0.0,\n",
      "    \"avg/profile/binsize=1/imbalance\": 0.0,\n",
      "    \"avg/profile/binsize=10/auprc\": NaN,\n",
      "    \"avg/profile/binsize=10/random_auprc\": NaN,\n",
      "    \"avg/profile/binsize=10/n_positives\": 0.0,\n",
      "    \"avg/profile/binsize=10/frac_ambigous\": 0.0,\n",
      "    \"avg/profile/binsize=10/imbalance\": 0.0,\n",
      "    \"avg/counts/mse\": 20.06270408630371,\n",
      "    \"avg/counts/var_explained\": -Infinity,\n",
      "    \"avg/counts/pearsonr\": NaN,\n",
      "    \"avg/counts/spearmanr\": NaN,\n",
      "    \"avg/counts/mad\": 4.466428279876709\n",
      "  }\n",
      "}"
     ]
    }
   ],
   "source": [
    "!cat {model_dir}/evaluation.valid.json"
   ]
  },
  {
   "cell_type": "code",
   "execution_count": 12,
   "metadata": {},
   "outputs": [],
   "source": [
    "from bpnet.utils import read_json\n",
    "gin_config = read_json(model_dir / 'config.gin.json')"
   ]
  },
  {
   "cell_type": "code",
   "execution_count": 13,
   "metadata": {},
   "outputs": [],
   "source": [
    "from bpnet.datasets import StrandedProfile"
   ]
  },
  {
   "cell_type": "code",
   "execution_count": 14,
   "metadata": {},
   "outputs": [],
   "source": [
    "# TODO - add intervals?\n",
    "dl_valid = StrandedProfile(ds, \n",
    "                           incl_chromosomes=gin_config['bpnet_data.valid_chr'], \n",
    "                           peak_width=gin_config['bpnet_data.peak_width'],\n",
    "                           seq_width=gin_config['bpnet_data.seq_width'],\n",
    "                           shuffle=False)"
   ]
  },
  {
   "cell_type": "code",
   "execution_count": 18,
   "metadata": {},
   "outputs": [
    {
     "name": "stderr",
     "output_type": "stream",
     "text": [
      "100%|██████████| 1/1 [00:00<00:00, 44.39it/s]\n"
     ]
    }
   ],
   "source": [
    "valid = dl_valid.load_all(num_workers=num_workers)"
   ]
  },
  {
   "cell_type": "code",
   "execution_count": 20,
   "metadata": {},
   "outputs": [],
   "source": [
    "y_pred = model.predict(valid['inputs'])"
   ]
  },
  {
   "cell_type": "code",
   "execution_count": 23,
   "metadata": {},
   "outputs": [],
   "source": [
    "y_true = valid['targets']"
   ]
  },
  {
   "cell_type": "code",
   "execution_count": 24,
   "metadata": {},
   "outputs": [],
   "source": [
    "import matplotlib.pyplot as plt"
   ]
  },
  {
   "cell_type": "code",
   "execution_count": 26,
   "metadata": {},
   "outputs": [
    {
     "name": "stderr",
     "output_type": "stream",
     "text": [
      "/data/ouga/home/ag_gagneur/avsec/.conda/envs/bpnet/lib/python3.6/site-packages/scipy/stats/stats.py:3399: PearsonRConstantInputWarning: An input array is constant; the correlation coefficent is not defined.\n",
      "  warnings.warn(PearsonRConstantInputWarning())\n",
      "/data/ouga/home/ag_gagneur/avsec/.conda/envs/bpnet/lib/python3.6/site-packages/numpy/lib/function_base.py:2530: RuntimeWarning: invalid value encountered in true_divide\n",
      "  c /= stddev[:, None]\n",
      "/data/ouga/home/ag_gagneur/avsec/.conda/envs/bpnet/lib/python3.6/site-packages/scipy/stats/_distn_infrastructure.py:901: RuntimeWarning: invalid value encountered in greater\n",
      "  return (a < x) & (x < b)\n",
      "/data/ouga/home/ag_gagneur/avsec/.conda/envs/bpnet/lib/python3.6/site-packages/scipy/stats/_distn_infrastructure.py:901: RuntimeWarning: invalid value encountered in less\n",
      "  return (a < x) & (x < b)\n",
      "/data/ouga/home/ag_gagneur/avsec/.conda/envs/bpnet/lib/python3.6/site-packages/scipy/stats/_distn_infrastructure.py:1892: RuntimeWarning: invalid value encountered in less_equal\n",
      "  cond2 = cond0 & (x <= _a)\n"
     ]
    },
    {
     "data": {
      "text/plain": [
       "<Figure size 432x288 with 0 Axes>"
      ]
     },
     "metadata": {},
     "output_type": "display_data"
    },
    {
     "data": {
      "image/png": "[encoded data removed]",
      "text/plain": [
       "<Figure size 432x288 with 1 Axes>"
      ]
     },
     "metadata": {
      "needs_background": "light"
     },
     "output_type": "display_data"
    }
   ],
   "source": [
    "for task in tasks:\n",
    "    plt.figure()\n",
    "    yt = y_true[f'{task}/counts'].mean(-1)\n",
    "    yp = y_pred[f'{task}/counts'].mean(-1)\n",
    "    regression_eval(yt, \n",
    "                    yp, alpha=0.1, task=task)"
   ]
  },
  {
   "cell_type": "markdown",
   "metadata": {},
   "source": [
    "## Profile plots"
   ]
  },
  {
   "cell_type": "code",
   "execution_count": 163,
   "metadata": {},
   "outputs": [],
   "source": [
    "peak_width = gin_config['bpnet_data.peak_width']"
   ]
  },
  {
   "cell_type": "code",
   "execution_count": 164,
   "metadata": {},
   "outputs": [],
   "source": [
    "np.random.seed(42)\n",
    "\n",
    "N_RANDOM = 2\n",
    "N_TOP_TOTAL_COUNT = 2\n",
    "N_TOP_PER_BASE_COUNT = 2\n",
    "\n",
    "def random_samples(arr, n=10, keep=None):\n",
    "    \"\"\"\n",
    "    Randomly sample the values\n",
    "      arr: numpy array\n",
    "      n = number of samples to draw\n",
    "    \"\"\"\n",
    "    if keep is None:\n",
    "        keep = np.arange(len(arr))\n",
    "    return list(pd.Series(np.arange(len(arr)))[keep].sample(n).index)\n",
    "\n",
    "\n",
    "def top_summary_count(arr, end=10, start=0, keep=None, summary_fn=np.max):\n",
    "    \"\"\"\n",
    "    Return indices where arr has the highest max(pos) + max(neg)\n",
    "\n",
    "    Args:\n",
    "      arr: can be an array or a list of arrays\n",
    "      start: Where to start returning the values\n",
    "      end: where to stop\n",
    "    \"\"\"\n",
    "    if keep is None:\n",
    "        keep = np.arange(len(arr))\n",
    "    assert end > start\n",
    "    # Top maxcount indicies\n",
    "    return pd.Series(summary_fn(arr, axis=1).sum(1))[keep].sort_values(ascending=False).index[start:end]\n",
    "\n",
    "# Check how much of the total counts is allocated at a single position\n",
    "yt = sum([y_true[f'{task}/profile']\n",
    "          for task in tasks])\n",
    "\n",
    "(yt / yt.sum(axis=1, keepdims=True)).max(axis=(-1, -2)).max()\n",
    "max_frac = (yt / yt.sum(axis=1, keepdims=True)).max(axis=(-1, -2))\n",
    "\n",
    "max_pos = (yt ).max(axis=(-1, -2))\n",
    "total_counts = (yt ).sum(axis=(-1, -2))\n",
    "n_zeros = np.sum(yt == 0, axis=(-1, -2))\n",
    "\n",
    "# Get the idx to test\n",
    "idx_set = set()\n",
    "for task in model.tasks:\n",
    "    keep = (valid['metadata']['interval_from_task'] == task)\n",
    "    idx_set.update(top_summary_count(y_true[f'{task}/profile'], N_TOP_TOTAL_COUNT, keep=keep, summary_fn=np.sum))\n",
    "    idx_set.update(top_summary_count(y_true[f'{task}/profile'], N_TOP_PER_BASE_COUNT, keep=keep, summary_fn=np.max))\n",
    "    idx_set.update(random_samples(y_true[f'{task}/profile'], N_RANDOM, keep=keep))"
   ]
  },
  {
   "cell_type": "code",
   "execution_count": 166,
   "metadata": {},
   "outputs": [],
   "source": [
    "import pybedtools\n",
    "import seaborn as sns\n",
    "from genomelake.extractors import FastaExtractor\n",
    "from bpnet.preproc import resize_interval\n",
    "from bpnet.data import get_dataset_item\n",
    "from bpnet.plot.tracks import plot_tracks, filter_tracks\n",
    "from bpnet.utils import flatten_list"
   ]
  },
  {
   "cell_type": "code",
   "execution_count": 167,
   "metadata": {},
   "outputs": [],
   "source": [
    "input_seqlen = gin_config['bpnet_model.seqlen']"
   ]
  },
  {
   "cell_type": "code",
   "execution_count": 168,
   "metadata": {},
   "outputs": [],
   "source": [
    "def to_neg(track):\n",
    "    \"\"\"Use the negative sign for reads on the reverse strand\n",
    "    \"\"\"\n",
    "    track = track.copy()\n",
    "    track[:, 1] = - track[:, 1]\n",
    "    return track    "
   ]
  },
  {
   "cell_type": "code",
   "execution_count": 169,
   "metadata": {},
   "outputs": [
    {
     "data": {
      "image/png": "[encoded data removed]",
      "text/plain": [
       "<Figure size 576x144 with 2 Axes>"
      ]
     },
     "metadata": {
      "needs_background": "light"
     },
     "output_type": "display_data"
    },
    {
     "data": {
      "image/png": "[encoded data removed]",
      "text/plain": [
       "<Figure size 576x144 with 2 Axes>"
      ]
     },
     "metadata": {
      "needs_background": "light"
     },
     "output_type": "display_data"
    },
    {
     "data": {
      "image/png": "[encoded data removed]",
      "text/plain": [
       "<Figure size 576x144 with 2 Axes>"
      ]
     },
     "metadata": {
      "needs_background": "light"
     },
     "output_type": "display_data"
    },
    {
     "data": {
      "image/png": "[encoded data removed]",
      "text/plain": [
       "<Figure size 576x144 with 2 Axes>"
      ]
     },
     "metadata": {
      "needs_background": "light"
     },
     "output_type": "display_data"
    }
   ],
   "source": [
    "max_plot_width = 400\n",
    "plot_seqlen = min(max_plot_width, input_seqlen)\n",
    "trim_edge = max((input_seqlen - max_plot_width) // 2, 0)\n",
    "\n",
    "xlim = [trim_edge, input_seqlen - trim_edge]\n",
    "fig_width = 8 / 200 * plot_seqlen\n",
    "rotate_y=90\n",
    "fig_height_per_track=1\n",
    "tasks = model.tasks\n",
    "\n",
    "for idx in idx_set:\n",
    "    # get the interval for that idx\n",
    "    r = get_dataset_item(valid['metadata']['range'], idx)\n",
    "    interval = pybedtools.create_interval_from_list([r['chr'], int(r['start']), int(r['end'])])\n",
    "    interval_str = f\"{interval.chrom}:{interval.start + trim_edge}-{interval.end - trim_edge}\"\n",
    "\n",
    "    # make prediction\n",
    "\n",
    "    fe = FastaExtractor(ds.fasta_file)\n",
    "    seq = fe([resize_interval(interval, input_seqlen, ignore_strand=True)])\n",
    "    x = model.neutral_bias_inputs(1000, 1000)\n",
    "    x['seq'] = seq\n",
    "    pred = model.predict(x)\n",
    "\n",
    "\n",
    "    # compile the list of tracks to plot\n",
    "    viz_dict =flatten_list([[\n",
    "        # Observed\n",
    "        (f\"{task}\\nObs\", to_neg(y_true[f'{task}/profile'][idx])),\n",
    "        # Predicted\n",
    "        (f\"\\nPred\", to_neg(pred[f'{task}/profile'][0] * np.exp(pred[f'{task}/counts'][0]))),\n",
    "    ] for task_idx, task in enumerate(tasks)])\n",
    "\n",
    "    sl = slice(*xlim)\n",
    "    # Get ylim\n",
    "    ylim = []\n",
    "    for task in tasks:\n",
    "        m = y_true[f'{task}/profile'][idx][sl].max()\n",
    "        ylim.append((-m,m))\n",
    "        m = (pred[f'{task}/profile'][0] * np.exp(pred[f'{task}/counts'][0])).max()\n",
    "        ylim.append((-m,m))\n",
    "\n",
    "    fig = plot_tracks(filter_tracks(viz_dict, xlim),\n",
    "                      title=interval_str,\n",
    "                      fig_height_per_track=fig_height_per_track,\n",
    "                      rotate_y=rotate_y,\n",
    "                      use_spine_subset=True,\n",
    "                      # color=colors,\n",
    "                      fig_width=fig_width,\n",
    "                      ylim=ylim,\n",
    "                      legend=False)\n",
    "    fig.align_ylabels()\n",
    "    sns.despine(top=True, right=True, bottom=True)"
   ]
  }
 ],
 "metadata": {
  "kernelspec": {
   "display_name": "Python [conda env:bpnet]",
   "language": "python",
   "name": "conda-env-bpnet-py"
  },
  "language_info": {
   "codemirror_mode": {
    "name": "ipython",
    "version": 3
   },
   "file_extension": ".py",
   "mimetype": "text/x-python",
   "name": "python",
   "nbconvert_exporter": "python",
   "pygments_lexer": "ipython3",
   "version": "3.6.7"
  }
 },
 "nbformat": 4,
 "nbformat_minor": 2
}
