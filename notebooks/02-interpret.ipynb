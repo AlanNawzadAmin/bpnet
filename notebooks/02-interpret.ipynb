{
 "cells": [
  {
   "cell_type": "markdown",
   "metadata": {},
   "source": [
    "## Steps\n",
    "\n",
    "- Compute the contribution scores\n",
    "  - with and without the null distribution\n",
    "- Run modisco + cwm scanning\n",
    "- Export bigwigs\n",
    "- Generate reports\n",
    "  - briefly explain them\n",
    "  - have more docs in the reports themselves (e.g. they should be self-contained)\n",
    "  - use custom reports\n",
    "- Use the Python API\n",
    "  - BPNet, \n",
    "    - visualize the locus with contrib scores + predictions\n",
    "    - motif spacing + simulation\n",
    "  - ImpScoreFile\n",
    "    - access the contrib scores\n",
    "    - visualize one region.\n",
    "    - Visualize the motif heatmap with read counts\n",
    "  - Modisco and Pattern object\n",
    "    - get and visualize the motifs / Patterns\n",
    "    - align patterns\n",
    "  - Motif instances dfi\n",
    "    - load them\n",
    "    - plot pairwise spacing"
   ]
  }
 ],
 "metadata": {
  "kernelspec": {
   "display_name": "Python 3",
   "language": "python",
   "name": "python3"
  },
  "language_info": {
   "codemirror_mode": {
    "name": "ipython",
    "version": 3
   },
   "file_extension": ".py",
   "mimetype": "text/x-python",
   "name": "python",
   "nbconvert_exporter": "python",
   "pygments_lexer": "ipython3",
   "version": "3.7.3"
  }
 },
 "nbformat": 4,
 "nbformat_minor": 2
}
